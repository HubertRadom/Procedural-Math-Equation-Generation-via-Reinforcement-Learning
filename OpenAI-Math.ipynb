{
 "cells": [
  {
   "cell_type": "markdown",
   "metadata": {},
   "source": [
    "# 0. Install Dependencies"
   ]
  },
  {
   "cell_type": "code",
   "execution_count": 1,
   "metadata": {
    "tags": []
   },
   "outputs": [
    {
     "name": "stdout",
     "output_type": "stream",
     "text": [
      "Collecting tensorflow==2.3.0\n",
      "  Downloading tensorflow-2.3.0-cp38-cp38-manylinux2010_x86_64.whl (320.5 MB)\n",
      "\u001b[K     |████████████████████████████████| 320.5 MB 2.2 kB/s  eta 0:00:01  |▉                               | 8.4 MB 2.4 MB/s eta 0:02:13     |██▊                             | 27.6 MB 2.4 MB/s eta 0:02:05    |█████████████████████████████▊  | 298.1 MB 9.8 MB/s eta 0:00:03\n",
      "\u001b[?25hRequirement already satisfied: six>=1.12.0 in /home/hubert/.local/lib/python3.8/site-packages (from tensorflow==2.3.0) (1.15.0)\n",
      "Requirement already satisfied: absl-py>=0.7.0 in /home/hubert/.local/lib/python3.8/site-packages (from tensorflow==2.3.0) (0.11.0)\n",
      "Requirement already satisfied: gast==0.3.3 in /home/hubert/.local/lib/python3.8/site-packages (from tensorflow==2.3.0) (0.3.3)\n",
      "Requirement already satisfied: h5py<2.11.0,>=2.10.0 in /home/hubert/.local/lib/python3.8/site-packages (from tensorflow==2.3.0) (2.10.0)\n",
      "Collecting numpy<1.19.0,>=1.16.0\n",
      "  Downloading numpy-1.18.5-cp38-cp38-manylinux1_x86_64.whl (20.6 MB)\n",
      "\u001b[K     |████████████████████████████████| 20.6 MB 22.0 MB/s eta 0:00:01B 22.0 MB/s eta 0:00:01\n",
      "\u001b[?25hRequirement already satisfied: wrapt>=1.11.1 in /home/hubert/.local/lib/python3.8/site-packages (from tensorflow==2.3.0) (1.12.1)\n",
      "Collecting scipy==1.4.1\n",
      "  Downloading scipy-1.4.1-cp38-cp38-manylinux1_x86_64.whl (26.0 MB)\n",
      "\u001b[K     |████████████████████████████████| 26.0 MB 65.4 MB/s eta 0:00:01     |████████████████████████▉       | 20.2 MB 65.4 MB/s eta 0:00:01\n",
      "\u001b[?25hRequirement already satisfied: keras-preprocessing<1.2,>=1.1.1 in /home/hubert/.local/lib/python3.8/site-packages (from tensorflow==2.3.0) (1.1.2)\n",
      "Requirement already satisfied: protobuf>=3.9.2 in /home/hubert/.local/lib/python3.8/site-packages (from tensorflow==2.3.0) (3.15.4)\n",
      "Requirement already satisfied: google-pasta>=0.1.8 in /home/hubert/.local/lib/python3.8/site-packages (from tensorflow==2.3.0) (0.2.0)\n",
      "Requirement already satisfied: astunparse==1.6.3 in /home/hubert/.local/lib/python3.8/site-packages (from tensorflow==2.3.0) (1.6.3)\n",
      "Requirement already satisfied: grpcio>=1.8.6 in /home/hubert/.local/lib/python3.8/site-packages (from tensorflow==2.3.0) (1.32.0)\n",
      "Requirement already satisfied: termcolor>=1.1.0 in /home/hubert/.local/lib/python3.8/site-packages (from tensorflow==2.3.0) (1.1.0)\n",
      "Collecting tensorflow-estimator<2.4.0,>=2.3.0\n",
      "  Downloading tensorflow_estimator-2.3.0-py2.py3-none-any.whl (459 kB)\n",
      "\u001b[K     |████████████████████████████████| 459 kB 30.6 MB/s eta 0:00:01\n",
      "\u001b[?25hRequirement already satisfied: wheel>=0.26 in /home/hubert/.local/lib/python3.8/site-packages (from tensorflow==2.3.0) (0.36.2)\n",
      "Requirement already satisfied: opt-einsum>=2.3.2 in /home/hubert/.local/lib/python3.8/site-packages (from tensorflow==2.3.0) (3.3.0)\n",
      "Requirement already satisfied: tensorboard<3,>=2.3.0 in /home/hubert/.local/lib/python3.8/site-packages (from tensorflow==2.3.0) (2.4.1)\n",
      "Requirement already satisfied: requests<3,>=2.21.0 in /usr/lib/python3/dist-packages (from tensorboard<3,>=2.3.0->tensorflow==2.3.0) (2.22.0)\n",
      "Requirement already satisfied: google-auth-oauthlib<0.5,>=0.4.1 in /home/hubert/.local/lib/python3.8/site-packages (from tensorboard<3,>=2.3.0->tensorflow==2.3.0) (0.4.2)\n",
      "Requirement already satisfied: werkzeug>=0.11.15 in /home/hubert/.local/lib/python3.8/site-packages (from tensorboard<3,>=2.3.0->tensorflow==2.3.0) (1.0.1)\n",
      "Requirement already satisfied: setuptools>=41.0.0 in /usr/lib/python3/dist-packages (from tensorboard<3,>=2.3.0->tensorflow==2.3.0) (45.2.0)\n",
      "Requirement already satisfied: markdown>=2.6.8 in /home/hubert/.local/lib/python3.8/site-packages (from tensorboard<3,>=2.3.0->tensorflow==2.3.0) (3.3.4)\n",
      "Requirement already satisfied: google-auth<2,>=1.6.3 in /home/hubert/.local/lib/python3.8/site-packages (from tensorboard<3,>=2.3.0->tensorflow==2.3.0) (1.27.0)\n",
      "Requirement already satisfied: tensorboard-plugin-wit>=1.6.0 in /home/hubert/.local/lib/python3.8/site-packages (from tensorboard<3,>=2.3.0->tensorflow==2.3.0) (1.8.0)\n",
      "Requirement already satisfied: requests-oauthlib>=0.7.0 in /home/hubert/.local/lib/python3.8/site-packages (from google-auth-oauthlib<0.5,>=0.4.1->tensorboard<3,>=2.3.0->tensorflow==2.3.0) (1.3.0)\n",
      "Requirement already satisfied: rsa<5,>=3.1.4; python_version >= \"3.6\" in /home/hubert/.local/lib/python3.8/site-packages (from google-auth<2,>=1.6.3->tensorboard<3,>=2.3.0->tensorflow==2.3.0) (4.7.2)\n",
      "Requirement already satisfied: pyasn1-modules>=0.2.1 in /home/hubert/.local/lib/python3.8/site-packages (from google-auth<2,>=1.6.3->tensorboard<3,>=2.3.0->tensorflow==2.3.0) (0.2.8)\n",
      "Requirement already satisfied: cachetools<5.0,>=2.0.0 in /home/hubert/.local/lib/python3.8/site-packages (from google-auth<2,>=1.6.3->tensorboard<3,>=2.3.0->tensorflow==2.3.0) (4.2.1)\n",
      "Requirement already satisfied: oauthlib>=3.0.0 in /usr/lib/python3/dist-packages (from requests-oauthlib>=0.7.0->google-auth-oauthlib<0.5,>=0.4.1->tensorboard<3,>=2.3.0->tensorflow==2.3.0) (3.1.0)\n",
      "Requirement already satisfied: pyasn1>=0.1.3 in /home/hubert/.local/lib/python3.8/site-packages (from rsa<5,>=3.1.4; python_version >= \"3.6\"->google-auth<2,>=1.6.3->tensorboard<3,>=2.3.0->tensorflow==2.3.0) (0.4.8)\n",
      "Installing collected packages: numpy, scipy, tensorflow-estimator, tensorflow\n",
      "  Attempting uninstall: numpy\n",
      "    Found existing installation: numpy 1.19.5\n",
      "    Uninstalling numpy-1.19.5:\n",
      "      Successfully uninstalled numpy-1.19.5\n",
      "  Attempting uninstall: scipy\n",
      "    Found existing installation: scipy 1.6.1\n",
      "    Uninstalling scipy-1.6.1:\n",
      "      Successfully uninstalled scipy-1.6.1\n",
      "  Attempting uninstall: tensorflow-estimator\n",
      "    Found existing installation: tensorflow-estimator 2.4.0\n",
      "    Uninstalling tensorflow-estimator-2.4.0:\n",
      "      Successfully uninstalled tensorflow-estimator-2.4.0\n",
      "  Attempting uninstall: tensorflow\n",
      "    Found existing installation: tensorflow 2.4.1\n",
      "    Uninstalling tensorflow-2.4.1:\n",
      "      Successfully uninstalled tensorflow-2.4.1\n",
      "Successfully installed numpy-1.18.5 scipy-1.4.1 tensorflow-2.3.0 tensorflow-estimator-2.3.0\n",
      "Collecting gym\n",
      "  Downloading gym-0.22.0.tar.gz (631 kB)\n",
      "\u001b[K     |████████████████████████████████| 631 kB 1.9 MB/s eta 0:00:01\n",
      "\u001b[?25h  Installing build dependencies ... \u001b[?25ldone\n",
      "\u001b[?25h  Getting requirements to build wheel ... \u001b[?25ldone\n",
      "\u001b[?25h    Preparing wheel metadata ... \u001b[?25ldone\n",
      "\u001b[?25hCollecting importlib-metadata>=4.10.0; python_version < \"3.10\"\n",
      "  Downloading importlib_metadata-4.11.2-py3-none-any.whl (17 kB)\n",
      "Requirement already satisfied: numpy>=1.18.0 in /home/hubert/.local/lib/python3.8/site-packages (from gym) (1.18.5)\n",
      "Collecting cloudpickle>=1.2.0\n",
      "  Downloading cloudpickle-2.0.0-py3-none-any.whl (25 kB)\n",
      "Collecting gym-notices>=0.0.4\n",
      "  Downloading gym_notices-0.0.5-py3-none-any.whl (2.7 kB)\n",
      "Collecting zipp>=0.5\n",
      "  Downloading zipp-3.7.0-py3-none-any.whl (5.3 kB)\n",
      "Building wheels for collected packages: gym\n",
      "  Building wheel for gym (PEP 517) ... \u001b[?25ldone\n",
      "\u001b[?25h  Created wheel for gym: filename=gym-0.22.0-py3-none-any.whl size=708393 sha256=2e29a4fc6ee24a16f978428db646af65579c551cff063fe9cc88443e90511384\n",
      "  Stored in directory: /home/hubert/.cache/pip/wheels/4d/6e/7d/0e050cb65b427dd0db5c5ab2c9a1f1ffa3d58db2f4db516268\n",
      "Successfully built gym\n",
      "Installing collected packages: zipp, importlib-metadata, cloudpickle, gym-notices, gym\n",
      "Successfully installed cloudpickle-2.0.0 gym-0.22.0 gym-notices-0.0.5 importlib-metadata-4.11.2 zipp-3.7.0\n",
      "Collecting keras\n",
      "  Downloading keras-2.8.0-py2.py3-none-any.whl (1.4 MB)\n",
      "\u001b[K     |████████████████████████████████| 1.4 MB 2.0 MB/s eta 0:00:01\n",
      "\u001b[?25hInstalling collected packages: keras\n",
      "Successfully installed keras-2.8.0\n",
      "Collecting keras-rl2\n",
      "  Downloading keras_rl2-1.0.5-py3-none-any.whl (52 kB)\n",
      "\u001b[K     |████████████████████████████████| 52 kB 759 kB/s eta 0:00:011\n",
      "\u001b[?25hRequirement already satisfied: tensorflow in /home/hubert/.local/lib/python3.8/site-packages (from keras-rl2) (2.3.0)\n",
      "Requirement already satisfied: protobuf>=3.9.2 in /home/hubert/.local/lib/python3.8/site-packages (from tensorflow->keras-rl2) (3.15.4)\n",
      "Requirement already satisfied: h5py<2.11.0,>=2.10.0 in /home/hubert/.local/lib/python3.8/site-packages (from tensorflow->keras-rl2) (2.10.0)\n",
      "Requirement already satisfied: gast==0.3.3 in /home/hubert/.local/lib/python3.8/site-packages (from tensorflow->keras-rl2) (0.3.3)\n",
      "Requirement already satisfied: keras-preprocessing<1.2,>=1.1.1 in /home/hubert/.local/lib/python3.8/site-packages (from tensorflow->keras-rl2) (1.1.2)\n",
      "Requirement already satisfied: numpy<1.19.0,>=1.16.0 in /home/hubert/.local/lib/python3.8/site-packages (from tensorflow->keras-rl2) (1.18.5)\n",
      "Requirement already satisfied: six>=1.12.0 in /home/hubert/.local/lib/python3.8/site-packages (from tensorflow->keras-rl2) (1.15.0)\n",
      "Requirement already satisfied: absl-py>=0.7.0 in /home/hubert/.local/lib/python3.8/site-packages (from tensorflow->keras-rl2) (0.11.0)\n",
      "Requirement already satisfied: wheel>=0.26 in /home/hubert/.local/lib/python3.8/site-packages (from tensorflow->keras-rl2) (0.36.2)\n",
      "Requirement already satisfied: google-pasta>=0.1.8 in /home/hubert/.local/lib/python3.8/site-packages (from tensorflow->keras-rl2) (0.2.0)\n",
      "Requirement already satisfied: tensorboard<3,>=2.3.0 in /home/hubert/.local/lib/python3.8/site-packages (from tensorflow->keras-rl2) (2.4.1)\n",
      "Requirement already satisfied: astunparse==1.6.3 in /home/hubert/.local/lib/python3.8/site-packages (from tensorflow->keras-rl2) (1.6.3)\n",
      "Requirement already satisfied: opt-einsum>=2.3.2 in /home/hubert/.local/lib/python3.8/site-packages (from tensorflow->keras-rl2) (3.3.0)\n",
      "Requirement already satisfied: scipy==1.4.1 in /home/hubert/.local/lib/python3.8/site-packages (from tensorflow->keras-rl2) (1.4.1)\n",
      "Requirement already satisfied: grpcio>=1.8.6 in /home/hubert/.local/lib/python3.8/site-packages (from tensorflow->keras-rl2) (1.32.0)\n",
      "Requirement already satisfied: tensorflow-estimator<2.4.0,>=2.3.0 in /home/hubert/.local/lib/python3.8/site-packages (from tensorflow->keras-rl2) (2.3.0)\n",
      "Requirement already satisfied: wrapt>=1.11.1 in /home/hubert/.local/lib/python3.8/site-packages (from tensorflow->keras-rl2) (1.12.1)\n",
      "Requirement already satisfied: termcolor>=1.1.0 in /home/hubert/.local/lib/python3.8/site-packages (from tensorflow->keras-rl2) (1.1.0)\n",
      "Requirement already satisfied: google-auth-oauthlib<0.5,>=0.4.1 in /home/hubert/.local/lib/python3.8/site-packages (from tensorboard<3,>=2.3.0->tensorflow->keras-rl2) (0.4.2)\n",
      "Requirement already satisfied: google-auth<2,>=1.6.3 in /home/hubert/.local/lib/python3.8/site-packages (from tensorboard<3,>=2.3.0->tensorflow->keras-rl2) (1.27.0)\n",
      "Requirement already satisfied: requests<3,>=2.21.0 in /usr/lib/python3/dist-packages (from tensorboard<3,>=2.3.0->tensorflow->keras-rl2) (2.22.0)\n",
      "Requirement already satisfied: setuptools>=41.0.0 in /usr/lib/python3/dist-packages (from tensorboard<3,>=2.3.0->tensorflow->keras-rl2) (45.2.0)\n",
      "Requirement already satisfied: tensorboard-plugin-wit>=1.6.0 in /home/hubert/.local/lib/python3.8/site-packages (from tensorboard<3,>=2.3.0->tensorflow->keras-rl2) (1.8.0)\n",
      "Requirement already satisfied: werkzeug>=0.11.15 in /home/hubert/.local/lib/python3.8/site-packages (from tensorboard<3,>=2.3.0->tensorflow->keras-rl2) (1.0.1)\n",
      "Requirement already satisfied: markdown>=2.6.8 in /home/hubert/.local/lib/python3.8/site-packages (from tensorboard<3,>=2.3.0->tensorflow->keras-rl2) (3.3.4)\n",
      "Requirement already satisfied: requests-oauthlib>=0.7.0 in /home/hubert/.local/lib/python3.8/site-packages (from google-auth-oauthlib<0.5,>=0.4.1->tensorboard<3,>=2.3.0->tensorflow->keras-rl2) (1.3.0)\n",
      "Requirement already satisfied: cachetools<5.0,>=2.0.0 in /home/hubert/.local/lib/python3.8/site-packages (from google-auth<2,>=1.6.3->tensorboard<3,>=2.3.0->tensorflow->keras-rl2) (4.2.1)\n",
      "Requirement already satisfied: pyasn1-modules>=0.2.1 in /home/hubert/.local/lib/python3.8/site-packages (from google-auth<2,>=1.6.3->tensorboard<3,>=2.3.0->tensorflow->keras-rl2) (0.2.8)\n",
      "Requirement already satisfied: rsa<5,>=3.1.4; python_version >= \"3.6\" in /home/hubert/.local/lib/python3.8/site-packages (from google-auth<2,>=1.6.3->tensorboard<3,>=2.3.0->tensorflow->keras-rl2) (4.7.2)\n",
      "Requirement already satisfied: oauthlib>=3.0.0 in /usr/lib/python3/dist-packages (from requests-oauthlib>=0.7.0->google-auth-oauthlib<0.5,>=0.4.1->tensorboard<3,>=2.3.0->tensorflow->keras-rl2) (3.1.0)\n",
      "Requirement already satisfied: pyasn1<0.5.0,>=0.4.6 in /home/hubert/.local/lib/python3.8/site-packages (from pyasn1-modules>=0.2.1->google-auth<2,>=1.6.3->tensorboard<3,>=2.3.0->tensorflow->keras-rl2) (0.4.8)\n",
      "Installing collected packages: keras-rl2\n",
      "Successfully installed keras-rl2-1.0.5\n"
     ]
    }
   ],
   "source": [
    "!pip install tensorflow==2.3.0\n",
    "!pip install gym\n",
    "!pip install keras\n",
    "!pip install keras-rl2"
   ]
  },
  {
   "cell_type": "markdown",
   "metadata": {},
   "source": [
    "# 1. Test Random Environment with OpenAI Gym"
   ]
  },
  {
   "cell_type": "code",
   "execution_count": 2,
   "metadata": {},
   "outputs": [
    {
     "name": "stderr",
     "output_type": "stream",
     "text": [
      "\n"
     ]
    }
   ],
   "source": [
    "from gym import Env\n",
    "from gym.spaces import Discrete, Box\n",
    "import numpy as np\n",
    "import random"
   ]
  },
  {
   "cell_type": "code",
   "execution_count": 5,
   "metadata": {},
   "outputs": [
    {
     "data": {
      "text/plain": [
       "array([0, 1, 2, 3, 0, 0, 0, 0, 8, 9])"
      ]
     },
     "execution_count": 5,
     "metadata": {},
     "output_type": "execute_result"
    }
   ],
   "source": [
    "a = np.array([0,1,2,3,4,5,6,7,8,9])\n",
    "a[(6 - 6%4):(6 - 6%4 + 4)] = [0,0,0,0]\n",
    "a"
   ]
  },
  {
   "cell_type": "code",
   "execution_count": 259,
   "metadata": {},
   "outputs": [],
   "source": [
    "import sympy\n",
    "\n",
    "class MathEquationEnv(Env):\n",
    "    def __init__(self):\n",
    "        self.action_space = Discrete(40)\n",
    "        \n",
    "        self.observation_space = Discrete(40)\n",
    "        \n",
    "        self.state = self.random_state()\n",
    "        \n",
    "        self.generator_length = 60\n",
    "        \n",
    "        x,y = sympy.symbols('x y')\n",
    "        self.x = x\n",
    "        self.y = y\n",
    "    \n",
    "    def random_state(self):\n",
    "        random_state = np.array([]).astype(int)\n",
    "        for i in range(10):\n",
    "            a = np.array([1,0,0,0]).astype(int)\n",
    "            random.shuffle(a)\n",
    "            random_state = np.concatenate((random_state, a))\n",
    "        return random_state\n",
    "    \n",
    "    def state_to_equation(self, eqNr):        \n",
    "        if eqNr == 0:\n",
    "            start, end = 0, 16\n",
    "        elif eqNr == 1:\n",
    "            start, end = 20, 36\n",
    "            \n",
    "        left = '0'\n",
    "        for i in range(start, end):\n",
    "            if self.state[i] == 1:\n",
    "                if i % 4 == 1:\n",
    "                    left+=('+'+str(random.randint(1,10)))\n",
    "                elif i % 4 == 2:\n",
    "                    left+='+x'\n",
    "                elif i % 4 == 3:\n",
    "                    left+='+y'\n",
    "                    \n",
    "        right = 0\n",
    "        if self.state[end] == 1:\n",
    "            right = 0\n",
    "        elif self.state[end+1] == 1:\n",
    "            right = random.randint(1,10)\n",
    "        elif self.state[end+2] == 1:\n",
    "            right = self.x\n",
    "        elif self.state[end+3] == 1:\n",
    "            right = self.y\n",
    "            \n",
    "        return left, right\n",
    "            \n",
    "    def step(self, action):\n",
    "        self.generator_length-=1\n",
    "        info = {}\n",
    "        reward = -1\n",
    "        if self.state[action] == 1:\n",
    "            reward-=1\n",
    "            #return self.state, reward, False, info\n",
    "        else:\n",
    "            self.state[(action - action%4) : (action - action%4 + 4)] = [0,0,0,0]\n",
    "            self.state[action] = 1\n",
    "            \n",
    "            \n",
    "        #x,y = sympy.symbols('x y')\n",
    "        left1, right1 = self.state_to_equation(0)\n",
    "        eq1 = sympy.Eq(sympy.sympify(left1), right1)\n",
    "                \n",
    "        left2, right2 = self.state_to_equation(1)\n",
    "        eq2 = sympy.Eq(sympy.sympify(left2), right2)\n",
    "        \n",
    "        done = False      \n",
    "        if self.generator_length <= 0:\n",
    "            done = True\n",
    "        #print(sympy.sympify(left1), right1)\n",
    "        #print(sympy.sympify(left2), right2)\n",
    "        #print('RESULT', eq1, eq2)\n",
    "        if eq1 == True or eq2 == True or eq1 == False or eq2 == False:\n",
    "            return self.state, reward, done, info\n",
    "        \n",
    "        result = sympy.linsolve([eq1, eq2], (self.x, self.y))\n",
    "        if type(result) == sympy.sets.sets.EmptySet:\n",
    "            reward-=1\n",
    "        else:\n",
    "            reward=8\n",
    "            done = True\n",
    "            \n",
    "        return self.state, reward, done, info\n",
    "        \n",
    "    def render(self):\n",
    "        # Implement viz\n",
    "        pass\n",
    "    \n",
    "    def reset(self):\n",
    "        init_state = np.array([]).astype(int)\n",
    "        for i in range(10):\n",
    "            a = np.array([1,0,0,0]).astype(int)\n",
    "            random.shuffle(a)\n",
    "            init_state = np.concatenate((init_state, a))\n",
    "        self.state = init_state\n",
    "        \n",
    "        self.generator_length = 60\n",
    "        \n",
    "        return self.state"
   ]
  },
  {
   "cell_type": "code",
   "execution_count": 260,
   "metadata": {},
   "outputs": [],
   "source": [
    "env = MathEquationEnv()"
   ]
  },
  {
   "cell_type": "code",
   "execution_count": 261,
   "metadata": {},
   "outputs": [
    {
     "data": {
      "text/plain": [
       "10"
      ]
     },
     "execution_count": 261,
     "metadata": {},
     "output_type": "execute_result"
    }
   ],
   "source": [
    "env.observation_space.sample()"
   ]
  },
  {
   "cell_type": "code",
   "execution_count": 262,
   "metadata": {},
   "outputs": [
    {
     "name": "stdout",
     "output_type": "stream",
     "text": [
      "Episode:1 Score:8\n",
      "Episode:2 Score:4\n",
      "Episode:3 Score:8\n",
      "Episode:4 Score:2\n",
      "Episode:5 Score:4\n",
      "Episode:6 Score:8\n",
      "Episode:7 Score:6\n",
      "Episode:8 Score:8\n",
      "Episode:9 Score:-6\n",
      "Episode:10 Score:8\n",
      "Episode:11 Score:8\n",
      "Episode:12 Score:8\n",
      "Episode:13 Score:8\n",
      "Episode:14 Score:8\n",
      "Episode:15 Score:8\n",
      "Episode:16 Score:6\n",
      "Episode:17 Score:5\n",
      "Episode:18 Score:-9\n",
      "Episode:19 Score:7\n",
      "Episode:20 Score:8\n",
      "Episode:21 Score:8\n",
      "Episode:22 Score:8\n",
      "Episode:23 Score:8\n",
      "Episode:24 Score:8\n",
      "Episode:25 Score:8\n",
      "Episode:26 Score:8\n",
      "Episode:27 Score:8\n",
      "Episode:28 Score:8\n",
      "Episode:29 Score:8\n",
      "Episode:30 Score:7\n",
      "Episode:31 Score:8\n",
      "Episode:32 Score:8\n",
      "Episode:33 Score:8\n",
      "Episode:34 Score:8\n",
      "Episode:35 Score:8\n",
      "Episode:36 Score:1\n",
      "Episode:37 Score:8\n",
      "Episode:38 Score:2\n",
      "Episode:39 Score:8\n",
      "Episode:40 Score:8\n"
     ]
    }
   ],
   "source": [
    "episodes = 40\n",
    "for episode in range(1, episodes+1):\n",
    "    state = env.reset()\n",
    "    done = False\n",
    "    score = 0 \n",
    "    \n",
    "    while not done:\n",
    "        #env.render()\n",
    "        #print('hmm')\n",
    "        action = env.action_space.sample()\n",
    "        n_state, reward, done, info = env.step(action)\n",
    "        score+=reward\n",
    "    print('Episode:{} Score:{}'.format(episode, score))"
   ]
  },
  {
   "cell_type": "markdown",
   "metadata": {},
   "source": [
    "# 2. Create a Deep Learning Model with Keras"
   ]
  },
  {
   "cell_type": "code",
   "execution_count": 263,
   "metadata": {},
   "outputs": [],
   "source": [
    "import numpy as np\n",
    "from tensorflow.keras.models import Sequential\n",
    "from tensorflow.keras.layers import Dense, Flatten\n",
    "from tensorflow.keras.optimizers import Adam"
   ]
  },
  {
   "cell_type": "code",
   "execution_count": 264,
   "metadata": {},
   "outputs": [
    {
     "data": {
      "text/plain": [
       "40"
      ]
     },
     "execution_count": 264,
     "metadata": {},
     "output_type": "execute_result"
    }
   ],
   "source": [
    "env.observation_space.n"
   ]
  },
  {
   "cell_type": "code",
   "execution_count": 265,
   "metadata": {},
   "outputs": [
    {
     "name": "stdout",
     "output_type": "stream",
     "text": [
      "()\n"
     ]
    }
   ],
   "source": [
    "states = env.observation_space.shape\n",
    "print(states)\n",
    "actions = env.action_space.n"
   ]
  },
  {
   "cell_type": "code",
   "execution_count": 266,
   "metadata": {},
   "outputs": [
    {
     "data": {
      "text/plain": [
       "Discrete(40)"
      ]
     },
     "execution_count": 266,
     "metadata": {},
     "output_type": "execute_result"
    }
   ],
   "source": [
    "env.action_space"
   ]
  },
  {
   "cell_type": "code",
   "execution_count": 267,
   "metadata": {},
   "outputs": [],
   "source": [
    "def build_model(states, actions):\n",
    "    model = Sequential()    \n",
    "    model.add(Dense(40, activation='relu', input_shape=(1,40) )  )\n",
    "    model.add(Dense(24, activation='relu'))\n",
    "    model.add(Dense(actions, activation='linear'))\n",
    "    model.add(Flatten())\n",
    "    return model"
   ]
  },
  {
   "cell_type": "code",
   "execution_count": 268,
   "metadata": {},
   "outputs": [],
   "source": [
    "del model "
   ]
  },
  {
   "cell_type": "code",
   "execution_count": 269,
   "metadata": {},
   "outputs": [],
   "source": [
    "model = build_model(states, actions)"
   ]
  },
  {
   "cell_type": "code",
   "execution_count": 270,
   "metadata": {},
   "outputs": [
    {
     "data": {
      "text/plain": [
       "(None, 40)"
      ]
     },
     "execution_count": 270,
     "metadata": {},
     "output_type": "execute_result"
    }
   ],
   "source": [
    "model.output_shape"
   ]
  },
  {
   "cell_type": "code",
   "execution_count": 271,
   "metadata": {},
   "outputs": [
    {
     "name": "stdout",
     "output_type": "stream",
     "text": [
      "Model: \"sequential_26\"\n",
      "_________________________________________________________________\n",
      "Layer (type)                 Output Shape              Param #   \n",
      "=================================================================\n",
      "dense_65 (Dense)             (None, 1, 40)             1640      \n",
      "_________________________________________________________________\n",
      "dense_66 (Dense)             (None, 1, 24)             984       \n",
      "_________________________________________________________________\n",
      "dense_67 (Dense)             (None, 1, 40)             1000      \n",
      "_________________________________________________________________\n",
      "flatten_6 (Flatten)          (None, 40)                0         \n",
      "=================================================================\n",
      "Total params: 3,624\n",
      "Trainable params: 3,624\n",
      "Non-trainable params: 0\n",
      "_________________________________________________________________\n"
     ]
    }
   ],
   "source": [
    "model.summary()"
   ]
  },
  {
   "cell_type": "markdown",
   "metadata": {},
   "source": [
    "# 3. Build Agent with Keras-RL"
   ]
  },
  {
   "cell_type": "code",
   "execution_count": 272,
   "metadata": {},
   "outputs": [],
   "source": [
    "from rl.agents import DQNAgent\n",
    "from rl.policy import BoltzmannQPolicy\n",
    "from rl.memory import SequentialMemory"
   ]
  },
  {
   "cell_type": "code",
   "execution_count": 273,
   "metadata": {},
   "outputs": [],
   "source": [
    "def build_agent(model, actions):\n",
    "    policy = BoltzmannQPolicy()\n",
    "    memory = SequentialMemory(limit=50000, window_length=1)\n",
    "    dqn = DQNAgent(model=model, memory=memory, policy=policy, \n",
    "                  nb_actions=actions, nb_steps_warmup=10, target_model_update=1e-2)\n",
    "    return dqn"
   ]
  },
  {
   "cell_type": "code",
   "execution_count": 274,
   "metadata": {},
   "outputs": [
    {
     "data": {
      "text/plain": [
       "(None, 1, 40)"
      ]
     },
     "execution_count": 274,
     "metadata": {},
     "output_type": "execute_result"
    }
   ],
   "source": [
    "tuple(model.input.shape)"
   ]
  },
  {
   "cell_type": "code",
   "execution_count": 276,
   "metadata": {},
   "outputs": [
    {
     "name": "stdout",
     "output_type": "stream",
     "text": [
      "Training for 5000 steps ...\n",
      "Interval 1 (0 steps performed)\n",
      " 4997/10000 [=============>................] - ETA: 1:11 - reward: 3.6734done, took 71.056 seconds\n"
     ]
    },
    {
     "data": {
      "text/plain": [
       "<tensorflow.python.keras.callbacks.History at 0x7f2ec16b6d90>"
      ]
     },
     "execution_count": 276,
     "metadata": {},
     "output_type": "execute_result"
    }
   ],
   "source": [
    "dqn = build_agent(model, actions)\n",
    "dqn.compile(Adam(lr=1e-3), metrics=['mae'])\n",
    "dqn.fit(env, nb_steps=5000, visualize=False, verbose=1)"
   ]
  },
  {
   "cell_type": "code",
   "execution_count": 277,
   "metadata": {},
   "outputs": [
    {
     "name": "stdout",
     "output_type": "stream",
     "text": [
      "Testing for 50 episodes ...\n",
      "Episode 1: reward: 8.000, steps: 1\n",
      "Episode 2: reward: 8.000, steps: 1\n",
      "Episode 3: reward: 8.000, steps: 1\n",
      "Episode 4: reward: 8.000, steps: 1\n",
      "Episode 5: reward: 8.000, steps: 1\n",
      "Episode 6: reward: 8.000, steps: 1\n",
      "Episode 7: reward: 8.000, steps: 1\n",
      "Episode 8: reward: 8.000, steps: 1\n",
      "Episode 9: reward: 8.000, steps: 1\n",
      "Episode 10: reward: 8.000, steps: 1\n",
      "Episode 11: reward: 8.000, steps: 1\n",
      "Episode 12: reward: 8.000, steps: 1\n",
      "Episode 13: reward: 8.000, steps: 1\n",
      "Episode 14: reward: 8.000, steps: 1\n",
      "Episode 15: reward: 8.000, steps: 1\n",
      "Episode 16: reward: 8.000, steps: 1\n",
      "Episode 17: reward: 8.000, steps: 1\n",
      "Episode 18: reward: 8.000, steps: 1\n",
      "Episode 19: reward: 8.000, steps: 1\n",
      "Episode 20: reward: 8.000, steps: 1\n",
      "Episode 21: reward: 8.000, steps: 1\n",
      "Episode 22: reward: 8.000, steps: 1\n",
      "Episode 23: reward: 6.000, steps: 2\n",
      "Episode 24: reward: 8.000, steps: 1\n",
      "Episode 25: reward: 8.000, steps: 1\n",
      "Episode 26: reward: 7.000, steps: 2\n",
      "Episode 27: reward: 8.000, steps: 1\n",
      "Episode 28: reward: 8.000, steps: 1\n",
      "Episode 29: reward: 8.000, steps: 1\n",
      "Episode 30: reward: 6.000, steps: 2\n",
      "Episode 31: reward: -119.000, steps: 60\n",
      "Episode 32: reward: 8.000, steps: 1\n",
      "Episode 33: reward: 8.000, steps: 1\n",
      "Episode 34: reward: 8.000, steps: 1\n",
      "Episode 35: reward: 8.000, steps: 1\n",
      "Episode 36: reward: 6.000, steps: 2\n",
      "Episode 37: reward: 8.000, steps: 1\n",
      "Episode 38: reward: 8.000, steps: 1\n",
      "Episode 39: reward: 8.000, steps: 1\n",
      "Episode 40: reward: 8.000, steps: 1\n",
      "Episode 41: reward: 8.000, steps: 1\n",
      "Episode 42: reward: 8.000, steps: 1\n",
      "Episode 43: reward: 8.000, steps: 1\n",
      "Episode 44: reward: 8.000, steps: 1\n",
      "Episode 45: reward: 8.000, steps: 1\n",
      "Episode 46: reward: 7.000, steps: 2\n",
      "Episode 47: reward: 8.000, steps: 1\n",
      "Episode 48: reward: 8.000, steps: 1\n",
      "Episode 49: reward: 8.000, steps: 1\n",
      "Episode 50: reward: 8.000, steps: 1\n",
      "5.3\n"
     ]
    }
   ],
   "source": [
    "scores = dqn.test(env, nb_episodes=50, visualize=False)\n",
    "print(np.mean(scores.history['episode_reward']))"
   ]
  },
  {
   "cell_type": "markdown",
   "metadata": {},
   "source": [
    "# 4. Reloading Agent from Memory"
   ]
  },
  {
   "cell_type": "code",
   "execution_count": 30,
   "metadata": {},
   "outputs": [],
   "source": [
    "dqn.save_weights('dqn_weights.h5f', overwrite=True)"
   ]
  },
  {
   "cell_type": "code",
   "execution_count": 31,
   "metadata": {},
   "outputs": [],
   "source": [
    "del model\n",
    "del dqn\n",
    "del env"
   ]
  },
  {
   "cell_type": "code",
   "execution_count": 9,
   "metadata": {},
   "outputs": [],
   "source": [
    "env = gym.make('CartPole-v0')\n",
    "actions = env.action_space.n\n",
    "states = env.observation_space.shape[0]\n",
    "model = build_model(states, actions)\n",
    "dqn = build_agent(model, actions)\n",
    "dqn.compile(Adam(lr=1e-3), metrics=['mae'])"
   ]
  },
  {
   "cell_type": "code",
   "execution_count": 10,
   "metadata": {},
   "outputs": [],
   "source": [
    "dqn.load_weights('dqn_weights.h5f')"
   ]
  },
  {
   "cell_type": "code",
   "execution_count": 11,
   "metadata": {},
   "outputs": [
    {
     "name": "stdout",
     "output_type": "stream",
     "text": [
      "Testing for 5 episodes ...\n",
      "WARNING:tensorflow:From /Users/nicholasrenotte/opt/anaconda3/lib/python3.7/site-packages/tensorflow/python/keras/engine/training_v1.py:2070: Model.state_updates (from tensorflow.python.keras.engine.training) is deprecated and will be removed in a future version.\n",
      "Instructions for updating:\n",
      "This property should not be used in TensorFlow 2.0, as updates are applied automatically.\n",
      "Episode 1: reward: 200.000, steps: 200\n",
      "Episode 2: reward: 200.000, steps: 200\n",
      "Episode 3: reward: 200.000, steps: 200\n",
      "Episode 4: reward: 200.000, steps: 200\n",
      "Episode 5: reward: 200.000, steps: 200\n"
     ]
    }
   ],
   "source": [
    "_ = dqn.test(env, nb_episodes=5, visualize=True)"
   ]
  },
  {
   "cell_type": "code",
   "execution_count": null,
   "metadata": {},
   "outputs": [],
   "source": []
  }
 ],
 "metadata": {
  "kernelspec": {
   "display_name": "Python 3",
   "language": "python",
   "name": "python3"
  },
  "language_info": {
   "codemirror_mode": {
    "name": "ipython",
    "version": 3
   },
   "file_extension": ".py",
   "mimetype": "text/x-python",
   "name": "python",
   "nbconvert_exporter": "python",
   "pygments_lexer": "ipython3",
   "version": "3.8.10"
  }
 },
 "nbformat": 4,
 "nbformat_minor": 4
}
