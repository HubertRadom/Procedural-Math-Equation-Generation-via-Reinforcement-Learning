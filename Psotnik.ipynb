{
 "cells": [
  {
   "cell_type": "markdown",
   "metadata": {
    "id": "m5JbgTj_HspY"
   },
   "source": [
    "# 0. Install Dependencies"
   ]
  },
  {
   "cell_type": "code",
   "execution_count": null,
   "metadata": {
    "colab": {
     "base_uri": "https://localhost:8080/",
     "height": 1000
    },
    "id": "Q90UxKG3Hspc",
    "outputId": "5feab939-cfbd-4c4f-91b1-326ba72f5abf"
   },
   "outputs": [],
   "source": [
    "!pip install tensorflow==2.3.0\n",
    "!pip install gym\n",
    "!pip install keras\n",
    "!pip install keras-rl2"
   ]
  },
  {
   "cell_type": "markdown",
   "metadata": {
    "id": "XAdEl_v6Hspe"
   },
   "source": [
    "# 1. Test Random Environment with OpenAI Gym"
   ]
  },
  {
   "cell_type": "code",
   "execution_count": 1,
   "metadata": {
    "id": "HbJE3puZHspe"
   },
   "outputs": [],
   "source": [
    "from gym import Env\n",
    "from gym.spaces import Discrete, Box\n",
    "import numpy as np\n",
    "import random\n",
    "import math\n",
    "import random\n",
    "import re"
   ]
  },
  {
   "cell_type": "code",
   "execution_count": 2,
   "metadata": {
    "colab": {
     "base_uri": "https://localhost:8080/"
    },
    "id": "JXY58wm1Wdnq",
    "outputId": "262fc29e-10d9-4ecf-a2e7-0e7a25437d91"
   },
   "outputs": [
    {
     "name": "stdout",
     "output_type": "stream",
     "text": [
      "+2x-11y+3sin(x)-12\n",
      "['+2x', '-11y', '+3sin(x)', '-12']\n",
      "11\n"
     ]
    }
   ],
   "source": [
    "sample_string = \"2x-11y+3sin(x)-12\"\n",
    "\n",
    "# if first term is positive, add '+' at the beginning (easier regex parse then)\n",
    "if sample_string[0] != '-' and sample_string[0] != '+':\n",
    "    sample_string = '+' + sample_string\n",
    "\n",
    "print(sample_string)\n",
    "\n",
    "print(re.findall('([-|\\+][\\w()]+)', sample_string))\n",
    "\n",
    "print(re.search(r'[\\d]+','-11y').group())\n"
   ]
  },
  {
   "cell_type": "code",
   "execution_count": 3,
   "metadata": {
    "colab": {
     "base_uri": "https://localhost:8080/"
    },
    "id": "FN5mDxkdjZq7",
    "outputId": "b73f89b6-78a3-45bf-e99d-4f92aa89173d"
   },
   "outputs": [
    {
     "name": "stdout",
     "output_type": "stream",
     "text": [
      "   element     ==>     sign    coeff   variable\n",
      "       +2x     ==>        +        2          x\n",
      "      -11y     ==>        -       11          y\n",
      "  +3sin(x)     ==>        +        3     sin(x)\n",
      "       -12     ==>        -       12           \n"
     ]
    }
   ],
   "source": [
    "print(\"{: >10}     ==> {: >8} {: >8} {: >10}\".format('element', 'sign', 'coeff', 'variable'))\n",
    "for element in re.findall('([-|\\+][\\w()]+)', sample_string):\n",
    "    coeff = re.search(r'[\\d]+',element).group()\n",
    "    sign, variable = element.split(coeff)\n",
    "    print(\"{: >10}     ==> {: >8} {: >8} {: >10}\".format(element, sign, coeff, variable))"
   ]
  },
  {
   "cell_type": "code",
   "execution_count": 4,
   "metadata": {
    "colab": {
     "base_uri": "https://localhost:8080/"
    },
    "id": "zN7VTTjhmZgu",
    "outputId": "6e13e43c-ea46-4808-e547-b7718a504c69"
   },
   "outputs": [
    {
     "name": "stdout",
     "output_type": "stream",
     "text": [
      "+2x-11y+3sin(x)-12\n",
      "[4, 0, 0, 8, 0, 0, 4, 0, 0, 8, 0, 0, 8, 0, 0, 8, 0, 0, 4, 0, 0, 8, 0, 0, 4, 0, 0, 8, 0, 0, 13, 0, 0, 4, 0, 0, 4, 0, 0, 8, 0, 0, 13, 0, 0, 4, 0, 0, 8, 0, 0, 4, 0, 0, 8, 0, 0, 13, 0, 0, 8, 0, 0, 4, 0, 0, 4, 0, 0, 4, 0, 0, 4, 0, 0, 5, 0, 0, 8, 0, 0, 5, 0, 0, 0, 0, 0, 0, 0, 0, 0, 0, 0, 0, 0, 0, 0, 0, 0, 0]\n"
     ]
    }
   ],
   "source": [
    "var_to_index = {\n",
    "    '': 0,\n",
    "    '(': 1,\n",
    "    ')': 2,\n",
    "    '+' : 3,\n",
    "    '-' : 4,\n",
    "    '+x': 5,\n",
    "    '-x': 6,\n",
    "    '+y': 7,\n",
    "    '-y': 8,\n",
    "    '+xx': 9,\n",
    "    '-xx': 10,\n",
    "    '+yy': 11,\n",
    "    '-yy': 12,\n",
    "    '+sin(x)': 13,\n",
    "    '-sin(x)': 14\n",
    "}\n",
    "\n",
    "index_to_var = {\n",
    "    0: '',\n",
    "    1: '(',\n",
    "    2: ')',\n",
    "    3: '+',\n",
    "    4: '-',\n",
    "    5: '+x',\n",
    "    6: '-x',\n",
    "    7: '+y',\n",
    "    8: '-y',\n",
    "    9: '+xx',\n",
    "    10: '-xx',\n",
    "    11: '+yy',\n",
    "    12: '-yy',\n",
    "    13: '+sin(x)',\n",
    "    14: '-sin(x)'\n",
    "}\n",
    "\n",
    "# add two elements between every element (to add zeros) \n",
    "def intersperse(lst, item):\n",
    "    result = [item] * (len(lst) * 3 - 1)\n",
    "    result[0::3] = lst\n",
    "    return result\n",
    "\n",
    "def equation_to_state(equation: str):\n",
    "    state = []\n",
    "    for element in re.findall('([-|\\+][\\w()]+)', equation):\n",
    "        coeff = re.search(r'[\\d]+',element).group()\n",
    "        sign, variable = element.split(coeff)\n",
    "        for i in range(int(coeff)):\n",
    "            state.append(var_to_index[sign+variable])\n",
    "\n",
    "    random.shuffle(state)\n",
    "    state = intersperse(state, 0)\n",
    "    while len(state) < 100:\n",
    "       state.append(var_to_index[''])\n",
    "\n",
    "    return state\n",
    "\n",
    "\n",
    "print(sample_string)\n",
    "new_state = equation_to_state(sample_string)\n",
    "print(new_state)"
   ]
  },
  {
   "cell_type": "code",
   "execution_count": 5,
   "metadata": {
    "colab": {
     "base_uri": "https://localhost:8080/"
    },
    "id": "EOLZEExj817l",
    "outputId": "96770395-92f9-48fd-bd74-621d70f08f26"
   },
   "outputs": [
    {
     "name": "stdout",
     "output_type": "stream",
     "text": [
      "-4-5x-2xx+1yy-4sin(x)\n",
      "-4+5x-1xx-1y-2yy+1sin(x)\n",
      "-1x+3xx+4y+2yy+1sin(x)\n",
      "-4x+3xx+5y-1yy-3sin(x)\n",
      "+5-3x+4xx+4yy-6sin(x)\n",
      "+3-5x-6xx+3y+3yy-3sin(x)\n"
     ]
    }
   ],
   "source": [
    "def random_equation():\n",
    "    vars = ['','x','xx','y','yy','sin(x)']\n",
    "    coeffs = random.choices(range(-6, 6), k=len(vars))\n",
    "    random_eq = ''\n",
    "    for i in range(len(coeffs)):\n",
    "        if coeffs[i] > 0:\n",
    "            random_eq += ('+' + str(coeffs[i]) + vars[i])\n",
    "        elif coeffs[i] < 0:\n",
    "            random_eq += (str(coeffs[i]) + vars[i])\n",
    "    return random_eq\n",
    "\n",
    "for _ in range(6):\n",
    "    print(random_equation())"
   ]
  },
  {
   "cell_type": "code",
   "execution_count": 6,
   "metadata": {
    "colab": {
     "base_uri": "https://localhost:8080/"
    },
    "id": "hEXKhLz2hqHk",
    "outputId": "4442d66d-a7c5-47fd-eda5-4398148ad0ac"
   },
   "outputs": [
    {
     "name": "stdout",
     "output_type": "stream",
     "text": [
      "-3-3x-1xx-2y+5yy-4sin(x)\n",
      "[11, 0, 0, 14, 0, 0, 4, 0, 0, 14, 0, 0, 14, 0, 0, 11, 0, 0, 8, 0, 0, 14, 0, 0, 8, 0, 0, 11, 0, 0, 6, 0, 0, 4, 0, 0, 6, 0, 0, 4, 0, 0, 11, 0, 0, 10, 0, 0, 6, 0, 0, 11, 0, 0, 0, 0, 0, 0, 0, 0, 0, 0, 0, 0, 0, 0, 0, 0, 0, 0, 0, 0, 0, 0, 0, 0, 0, 0, 0, 0, 0, 0, 0, 0, 0, 0, 0, 0, 0, 0, 0, 0, 0, 0, 0, 0, 0, 0, 0, 0]\n"
     ]
    }
   ],
   "source": [
    "rand_eq = random_equation()\n",
    "print(rand_eq)\n",
    "eq_state = equation_to_state(rand_eq)\n",
    "print(eq_state)"
   ]
  },
  {
   "cell_type": "code",
   "execution_count": 34,
   "metadata": {
    "colab": {
     "base_uri": "https://localhost:8080/",
     "height": 53
    },
    "id": "7LRl45vhEUad",
    "outputId": "e73c0540-03e4-45e4-8177-c03da71445af"
   },
   "outputs": [
    {
     "name": "stdout",
     "output_type": "stream",
     "text": [
      "-3-3x-1xx-2y+5yy-4sin(x)\n"
     ]
    },
    {
     "data": {
      "text/plain": [
       "'-3-x3-y2-xx1+yy5-sin(x)4'"
      ]
     },
     "execution_count": 34,
     "metadata": {},
     "output_type": "execute_result"
    }
   ],
   "source": [
    "def state_to_equation(state):\n",
    "    state_counter = {\n",
    "        0: 0,\n",
    "        1: 0,\n",
    "        2: 0,\n",
    "        3: 0,\n",
    "        4: 0,\n",
    "        5: 0,\n",
    "        6: 0,\n",
    "        7: 0,\n",
    "        8: 0,\n",
    "        9: 0,\n",
    "        10: 0,\n",
    "        11: 0,\n",
    "        12: 0,\n",
    "        13: 0,\n",
    "        14: 0\n",
    "    }\n",
    "    for x in state:\n",
    "        if x != 0 and x != 1 and x != 2:\n",
    "            state_counter[x]+=1\n",
    "    \n",
    "    equation = ''\n",
    "    for x in state_counter.keys():\n",
    "        if state_counter[x] > 0:\n",
    "            equation+=(index_to_var[x]+str(state_counter[x]))\n",
    "    return equation\n",
    "\n",
    "print(rand_eq)\n",
    "state_to_equation(eq_state)"
   ]
  },
  {
   "cell_type": "code",
   "execution_count": 40,
   "metadata": {},
   "outputs": [],
   "source": [
    "def state_to_dict(state):\n",
    "    index_to_var = {\n",
    "    0: '',\n",
    "    1: '(',\n",
    "    2: ')',\n",
    "    3: '+',\n",
    "    4: '-',\n",
    "    5: '+x',\n",
    "    6: '-x',\n",
    "    7: '+y',\n",
    "    8: '-y',\n",
    "    9: '+xx',\n",
    "    10: '-xx',\n",
    "    11: '+yy',\n",
    "    12: '-yy',\n",
    "    13: '+sin(x)',\n",
    "    14: '-sin(x)'\n",
    "    }\n",
    "    out = {}\n",
    "    for x in state:\n",
    "        if x == 1 or x == 2:\n",
    "            return None\n",
    "        if x == 0:\n",
    "            continue\n",
    "            \n",
    "        key = index_to_var[x][1:]\n",
    "        if key not in out.keys():\n",
    "            out[key] = 0\n",
    "        if x % 2:\n",
    "            out[key] += 1\n",
    "        else:\n",
    "            out[key] -= 1\n",
    "    return out\n",
    "\n",
    "def aggregate_parenthesis(state):\n",
    "    open_idx = None\n",
    "    is_open = False\n",
    "    out = []\n",
    "    for i, x in enumerate(state):\n",
    "        if x == 1:\n",
    "            if is_open:\n",
    "                return -1\n",
    "            else:\n",
    "                is_open = True\n",
    "                open_idx = i\n",
    "        if x == 2:\n",
    "            if is_open:\n",
    "                out.append(state_to_dict(state[open_idx+1:i]))\n",
    "                print(state_to_equation(state[open_idx+1:i]))\n",
    "                is_open = False\n",
    "            else:\n",
    "                return -1\n",
    "    return out"
   ]
  },
  {
   "cell_type": "code",
   "execution_count": 41,
   "metadata": {},
   "outputs": [],
   "source": [
    "# Kinda obsolete, it is basically a copy of aggregate_parenthesis but it calls state_to_equation() instead of state_to_dict()\n",
    "def obsolete_state_to_string(state):\n",
    "    open_idx = None\n",
    "    is_open = False\n",
    "    out = \"\"\n",
    "    for i, x in enumerate(state):\n",
    "        if x == 1:\n",
    "            if is_open:\n",
    "                return -1\n",
    "            else:\n",
    "                is_open = True\n",
    "                open_idx = i\n",
    "        if x == 2:\n",
    "            if is_open:\n",
    "                out += '('\n",
    "                out += state_to_equation(state[open_idx+1:i])\n",
    "                out += ') + '\n",
    "                is_open = False\n",
    "            else:\n",
    "                return -1\n",
    "    return out[:-3]"
   ]
  },
  {
   "cell_type": "code",
   "execution_count": 42,
   "metadata": {},
   "outputs": [],
   "source": [
    "def dictlist_to_string(eq_list):\n",
    "    '''\n",
    "    For state -> string you can do: \n",
    "        dictlist_to_string( aggregate_parenthesis( state ) )\n",
    "    '''\n",
    "    out = \"\"\n",
    "    for x in eq_list:\n",
    "        out += '('\n",
    "        for sign in x.keys():\n",
    "            if x[sign] > 0:\n",
    "                out += ' +'\n",
    "            else:\n",
    "                out += ' '\n",
    "            out += str(x[sign]) + sign\n",
    "        out += ') + '\n",
    "    return out[:-3]"
   ]
  },
  {
   "cell_type": "code",
   "execution_count": 43,
   "metadata": {},
   "outputs": [
    {
     "name": "stdout",
     "output_type": "stream",
     "text": [
      "-1-y1+yy1-sin(x)4\n",
      "-2-x3-y1-xx1+yy3\n",
      "[{'sin(x)': -4, '': -1, 'yy': 1, 'y': -1}, {'y': -1, 'yy': 3, 'x': -3, '': -2, 'xx': -1}]\n",
      "(-1-y1+yy1-sin(x)4) + (-2-x3-y1-xx1+yy3)\n",
      "( -4sin(x) -1 +1yy -1y) + ( -1y +3yy -3x -2 -1xx)\n"
     ]
    }
   ],
   "source": [
    "eq_state[2] = 1\n",
    "eq_state[22] = 2\n",
    "eq_state[23] = 1\n",
    "eq_state[60] = 2\n",
    "\n",
    "out = aggregate_parenthesis(eq_state)\n",
    "print(out)\n",
    "print(obsolete_state_to_string(eq_state))\n",
    "print(dictlist_to_string(out))"
   ]
  },
  {
   "cell_type": "code",
   "execution_count": 44,
   "metadata": {
    "id": "4eDxJS0jHspi"
   },
   "outputs": [],
   "source": [
    "class MathEquationEnv(Env):\n",
    "    \n",
    "    def __init__(self):\n",
    "        self.action_space = Discrete(66)\n",
    "        self.observation_space = Discrete(100)\n",
    "        self.state = self.random_state()\n",
    "        \n",
    "        self.generator_length = 60\n",
    "\n",
    "        self.brackets_number = 0\n",
    "\n",
    "    def random_equation(self):\n",
    "        vars = ['','x','xx','y','yy','sin(x)']\n",
    "        coeffs = random.choices(range(-6, 6), k=len(vars))\n",
    "        random_eq = ''\n",
    "        for i in range(len(coeffs)):\n",
    "            if coeffs[i] > 0:\n",
    "                random_eq += ('+' + str(coeffs[i]) + vars[i])\n",
    "            elif coeffs[i] < 0:\n",
    "                random_eq += (str(coeffs[i]) + vars[i])\n",
    "        return random_eq\n",
    "\n",
    "    def intersperse(self, lst, item):\n",
    "        result = [item] * (len(lst) * 3 - 1)\n",
    "        result[0::3] = lst\n",
    "        return result\n",
    "    \n",
    "    def state_to_dict(self, state):\n",
    "        index_to_var = {\n",
    "        0: '',\n",
    "        1: '(',\n",
    "        2: ')',\n",
    "        3: '+',\n",
    "        4: '-',\n",
    "        5: '+x',\n",
    "        6: '-x',\n",
    "        7: '+y',\n",
    "        8: '-y',\n",
    "        9: '+xx',\n",
    "        10: '-xx',\n",
    "        11: '+yy',\n",
    "        12: '-yy',\n",
    "        13: '+sin(x)',\n",
    "        14: '-sin(x)'\n",
    "        }\n",
    "        out = {}\n",
    "        for x in state:\n",
    "            if x == 1 or x == 2:\n",
    "                return None\n",
    "            if x == 0:\n",
    "                continue\n",
    "\n",
    "            key = index_to_var[x][1:]\n",
    "            if key not in out.keys():\n",
    "                out[key] = 0\n",
    "            if x % 2:\n",
    "                out[key] += 1\n",
    "            else:\n",
    "                out[key] -= 1\n",
    "        return out\n",
    "\n",
    "    def aggregate_parenthesis(self):\n",
    "        open_idx = None\n",
    "        is_open = False\n",
    "        out = []\n",
    "        for i, x in enumerate(self.state):\n",
    "            if x == 1:\n",
    "                if is_open:\n",
    "                    return -1\n",
    "                else:\n",
    "                    is_open = True\n",
    "                    open_idx = i\n",
    "            if x == 2:\n",
    "                if is_open:\n",
    "                    out.append(state_to_dict(self.state[open_idx+1:i]))\n",
    "                    is_open = False\n",
    "                else:\n",
    "                    return -1\n",
    "        return out\n",
    "\n",
    "    def equation_to_state(self ,equation: str):\n",
    "        state = []\n",
    "        for element in re.findall('([-|\\+][\\w()]+)', equation):\n",
    "            coeff = re.search(r'[\\d]+',element).group()\n",
    "            sign, variable = element.split(coeff)\n",
    "            for i in range(int(coeff)):\n",
    "                state.append(var_to_index[sign+variable])\n",
    "        random.shuffle(state)\n",
    "        state = self.intersperse(state, 0)\n",
    "        while len(state) < 100:\n",
    "            state.append(var_to_index[''])\n",
    "        return state\n",
    "\n",
    "    def random_state(self):\n",
    "        return self.equation_to_state(self.random_equation())\n",
    "\n",
    "    def state_to_equation(self, state):\n",
    "        state_counter = {\n",
    "            0: 0,\n",
    "            1: 0,\n",
    "            2: 0,\n",
    "            3: 0,\n",
    "            4: 0,\n",
    "            5: 0,\n",
    "            6: 0,\n",
    "            7: 0,\n",
    "            8: 0,\n",
    "            9: 0,\n",
    "            10: 0,\n",
    "            11: 0,\n",
    "            12: 0,\n",
    "            13: 0,\n",
    "            14: 0\n",
    "        }\n",
    "        for x in state:\n",
    "            if x != 0 and x != 1 and x != 2:\n",
    "                state_counter[x]+=1\n",
    "        equation = ''\n",
    "        for x in state_counter.keys():\n",
    "            if state_counter[x] > 0:\n",
    "                equation+=(index_to_var[x]+str(state_counter[x]))\n",
    "        return equation\n",
    "\n",
    "\n",
    "    def evaluate_brackets(self, state):\n",
    "        '''\n",
    "        Outcomes of aggregate_parenthesis():\n",
    "            -1   : wrong bracket syntax\n",
    "            []   : no brackets or only one open bracket and no close\n",
    "            [{}] : empty dict means that there are correct brackets but with nothing inside (only 0's)\n",
    "            else : probably correct brackets\n",
    "        '''\n",
    "        brackets = self.aggregate_parenthesis()\n",
    "        if brackets == -1:\n",
    "            return -5\n",
    "        if not brackets:\n",
    "            return -2\n",
    "        score = 0\n",
    "        for x in brackets:\n",
    "            score += 1\n",
    "            if x == {}:\n",
    "                score -= 1\n",
    "                continue\n",
    "            numbers = np.absolute(list(x.values()))\n",
    "            for i in range(2, min(numbers)+1):\n",
    "                if all(num % i == 0 for num in numbers):\n",
    "                    print(\"Divisor: \", i)\n",
    "                    score += 10\n",
    "        return score\n",
    "#         left = False\n",
    "#         brackets = 0\n",
    "#         for i in range(len(state)):\n",
    "#             if state[i] == 1 and left == False:\n",
    "#                 left = True\n",
    "#             elif state[i] == 1 and left == True:\n",
    "#                 return -1\n",
    "#             elif state[i] == 2 and left == True:\n",
    "#                 left = False\n",
    "#                 brackets+=1\n",
    "#             elif state[i] == 2 and left == False:\n",
    "#                 return -1\n",
    "\n",
    "#         if brackets > self.brackets_number:\n",
    "#             self.brackets_number = brackets\n",
    "#             return 10\n",
    "\n",
    "#         return 0\n",
    "            \n",
    "    def step(self, action):\n",
    "        self.generator_length-=1\n",
    "\n",
    "        info = {}\n",
    "        reward = 0\n",
    "        done = False      \n",
    "\n",
    "        if action % 2 == 1: # (\n",
    "            self.state[action + action//2 + 1] = 1\n",
    "        elif action % 2 == 0: # )\n",
    "            self.state[action + action//2 + 1] = 2\n",
    "\n",
    "        reward = self.evaluate_brackets(self.state)\n",
    "\n",
    "\n",
    "        if self.generator_length <= 0:\n",
    "#             print(\"Final state:\")\n",
    "#             print(self.state_to_equation(self.state))\n",
    "#             print(self.state)\n",
    "#             print()\n",
    "            done = True\n",
    "\n",
    "        return self.state, reward, done, {}\n",
    "        \n",
    "    def render(self):\n",
    "        # Implement viz\n",
    "        pass\n",
    "    \n",
    "    def reset(self):\n",
    "        self.state = self.random_state()\n",
    "        #print(\"Initial state:\")\n",
    "        #print(self.state_to_equation(self.state))\n",
    "        self.generator_length = 60\n",
    "        return self.state"
   ]
  },
  {
   "cell_type": "code",
   "execution_count": 45,
   "metadata": {
    "id": "8fdRXQs8Hspj"
   },
   "outputs": [],
   "source": [
    "## Do not make additional spaces in the () brackets just the variables like:\n",
    "env = MathEquationEnv()\n",
    "#env = MathEquationEnv(\"x + y + z\", 3)"
   ]
  },
  {
   "cell_type": "code",
   "execution_count": 46,
   "metadata": {
    "colab": {
     "base_uri": "https://localhost:8080/"
    },
    "id": "tbcNQ9GgHspj",
    "outputId": "66e3b3fa-f5d8-42c0-fa26-eb20ea48783b"
   },
   "outputs": [
    {
     "data": {
      "text/plain": [
       "54"
      ]
     },
     "execution_count": 46,
     "metadata": {},
     "output_type": "execute_result"
    }
   ],
   "source": [
    "env.observation_space.sample()"
   ]
  },
  {
   "cell_type": "code",
   "execution_count": 72,
   "metadata": {
    "colab": {
     "base_uri": "https://localhost:8080/"
    },
    "id": "DIWZzB00Hspl",
    "outputId": "ec002b1e-5c70-4998-968f-b4f60580a21a"
   },
   "outputs": [
    {
     "name": "stdout",
     "output_type": "stream",
     "text": [
      "Episode:1 Score:-297\n",
      "Episode:2 Score:-297\n",
      "Episode:3 Score:-291\n",
      "Episode:4 Score:-294\n",
      "Episode:5 Score:-300\n"
     ]
    }
   ],
   "source": [
    "episodes = 5\n",
    "for episode in range(1, episodes+1):\n",
    "    state = env.reset()\n",
    "    done = False\n",
    "    score = 0 \n",
    "    \n",
    "    while not done:\n",
    "        #env.render()\n",
    "        #print('hmm')\n",
    "        action = env.action_space.sample()\n",
    "        \n",
    "        n_state, reward, done, info = env.step(action)\n",
    "        score+=reward\n",
    "    print('Episode:{} Score:{}'.format(episode, score))"
   ]
  },
  {
   "cell_type": "markdown",
   "metadata": {
    "id": "JMwyTjVLHspm"
   },
   "source": [
    "# 2. Create a Deep Learning Model with Keras"
   ]
  },
  {
   "cell_type": "code",
   "execution_count": 73,
   "metadata": {
    "id": "aJhanh8bHspm"
   },
   "outputs": [],
   "source": [
    "import numpy as np\n",
    "from tensorflow.keras.models import Sequential\n",
    "from tensorflow.keras.layers import Dense, Flatten\n",
    "from tensorflow.keras.optimizers import Adam"
   ]
  },
  {
   "cell_type": "code",
   "execution_count": 74,
   "metadata": {
    "colab": {
     "base_uri": "https://localhost:8080/"
    },
    "id": "h-lv9GQhHspm",
    "outputId": "62318a07-6fce-4c9e-c043-b4a027b45f1b"
   },
   "outputs": [
    {
     "data": {
      "text/plain": [
       "100"
      ]
     },
     "execution_count": 74,
     "metadata": {},
     "output_type": "execute_result"
    }
   ],
   "source": [
    "env.observation_space.n"
   ]
  },
  {
   "cell_type": "code",
   "execution_count": 75,
   "metadata": {
    "colab": {
     "base_uri": "https://localhost:8080/"
    },
    "id": "-_qs42O_Hspn",
    "outputId": "10e552da-afbc-41c1-a385-67c463bf53e3"
   },
   "outputs": [
    {
     "name": "stdout",
     "output_type": "stream",
     "text": [
      "()\n"
     ]
    }
   ],
   "source": [
    "states = env.observation_space.shape\n",
    "print(states)\n",
    "actions = env.action_space.n"
   ]
  },
  {
   "cell_type": "code",
   "execution_count": 76,
   "metadata": {
    "colab": {
     "base_uri": "https://localhost:8080/"
    },
    "id": "rtPJTWoxHspn",
    "outputId": "5c4495c6-35d3-42de-9523-9160b0493092"
   },
   "outputs": [
    {
     "data": {
      "text/plain": [
       "Discrete(66)"
      ]
     },
     "execution_count": 76,
     "metadata": {},
     "output_type": "execute_result"
    }
   ],
   "source": [
    "env.action_space"
   ]
  },
  {
   "cell_type": "code",
   "execution_count": 77,
   "metadata": {
    "id": "2CLeoYH2Hspn"
   },
   "outputs": [],
   "source": [
    "def build_model(observations, actions):\n",
    "    model = Sequential()    \n",
    "    model.add(Dense(observations, activation='relu', input_shape=(1, observations) )  )\n",
    "    model.add(Dense(48, activation='relu'))\n",
    "    model.add(Dense(24, activation='relu'))\n",
    "    model.add(Dense(actions, activation='linear'))\n",
    "    model.add(Flatten())\n",
    "    return model"
   ]
  },
  {
   "cell_type": "code",
   "execution_count": 78,
   "metadata": {
    "id": "G1HVZv4SHspo"
   },
   "outputs": [
    {
     "ename": "NameError",
     "evalue": "name 'model' is not defined",
     "output_type": "error",
     "traceback": [
      "\u001b[0;31m---------------------------------------------------------------------------\u001b[0m",
      "\u001b[0;31mNameError\u001b[0m                                 Traceback (most recent call last)",
      "\u001b[0;32m<ipython-input-78-a7ab210f85a1>\u001b[0m in \u001b[0;36m<module>\u001b[0;34m\u001b[0m\n\u001b[0;32m----> 1\u001b[0;31m \u001b[0;32mdel\u001b[0m \u001b[0mmodel\u001b[0m\u001b[0;34m\u001b[0m\u001b[0;34m\u001b[0m\u001b[0m\n\u001b[0m",
      "\u001b[0;31mNameError\u001b[0m: name 'model' is not defined"
     ]
    }
   ],
   "source": [
    "del model"
   ]
  },
  {
   "cell_type": "code",
   "execution_count": 80,
   "metadata": {
    "id": "rbFv4c8dbHjg"
   },
   "outputs": [],
   "source": [
    "def quick_building(env):\n",
    "    observation_space = env.observation_space.n\n",
    "    action_space = env.action_space.n\n",
    "    return build_model(observation_space, action_space)"
   ]
  },
  {
   "cell_type": "code",
   "execution_count": 81,
   "metadata": {
    "id": "KhE3PNzZHspo"
   },
   "outputs": [],
   "source": [
    "env = MathEquationEnv()\n",
    "model = quick_building(env)"
   ]
  },
  {
   "cell_type": "code",
   "execution_count": 82,
   "metadata": {
    "colab": {
     "base_uri": "https://localhost:8080/"
    },
    "id": "4zgl0xqnHspo",
    "outputId": "14daed43-4d13-435a-8404-4947d0779349"
   },
   "outputs": [
    {
     "data": {
      "text/plain": [
       "(None, 1, 100)"
      ]
     },
     "execution_count": 82,
     "metadata": {},
     "output_type": "execute_result"
    }
   ],
   "source": [
    "model.input_shape"
   ]
  },
  {
   "cell_type": "code",
   "execution_count": 83,
   "metadata": {
    "colab": {
     "base_uri": "https://localhost:8080/"
    },
    "id": "CBlpru5KHspp",
    "outputId": "3592327b-0120-4162-c4cf-4f1fa2655151"
   },
   "outputs": [
    {
     "name": "stdout",
     "output_type": "stream",
     "text": [
      "Model: \"sequential\"\n",
      "_________________________________________________________________\n",
      " Layer (type)                Output Shape              Param #   \n",
      "=================================================================\n",
      " dense (Dense)               (None, 1, 100)            10100     \n",
      "                                                                 \n",
      " dense_1 (Dense)             (None, 1, 48)             4848      \n",
      "                                                                 \n",
      " dense_2 (Dense)             (None, 1, 24)             1176      \n",
      "                                                                 \n",
      " dense_3 (Dense)             (None, 1, 66)             1650      \n",
      "                                                                 \n",
      " flatten (Flatten)           (None, 66)                0         \n",
      "                                                                 \n",
      "=================================================================\n",
      "Total params: 17,774\n",
      "Trainable params: 17,774\n",
      "Non-trainable params: 0\n",
      "_________________________________________________________________\n"
     ]
    }
   ],
   "source": [
    "model.summary()"
   ]
  },
  {
   "cell_type": "markdown",
   "metadata": {
    "id": "R6sTY55FHspp"
   },
   "source": [
    "# 3. Build Agent with Keras-RL"
   ]
  },
  {
   "cell_type": "code",
   "execution_count": 84,
   "metadata": {
    "id": "MSt72iprHspp"
   },
   "outputs": [],
   "source": [
    "from rl.agents import DQNAgent\n",
    "from rl.policy import BoltzmannQPolicy\n",
    "from rl.memory import SequentialMemory"
   ]
  },
  {
   "cell_type": "code",
   "execution_count": 85,
   "metadata": {
    "id": "AtstWe0yHspq"
   },
   "outputs": [],
   "source": [
    "def build_agent(model, actions):\n",
    "    policy = BoltzmannQPolicy()\n",
    "    memory = SequentialMemory(limit=50000, window_length=1)\n",
    "    dqn = DQNAgent(model=model, memory=memory, policy=policy, \n",
    "                  nb_actions=actions, nb_steps_warmup=10, target_model_update=1e-2)\n",
    "    return dqn"
   ]
  },
  {
   "cell_type": "code",
   "execution_count": 86,
   "metadata": {
    "id": "a5kMZcgQdAS_"
   },
   "outputs": [],
   "source": [
    "def quick_building_agent(model, env):\n",
    "    actions = env.action_space.n\n",
    "    return build_agent(model, actions)"
   ]
  },
  {
   "cell_type": "code",
   "execution_count": 87,
   "metadata": {
    "colab": {
     "base_uri": "https://localhost:8080/"
    },
    "id": "1sKlfiXtHspq",
    "outputId": "13b9b06e-1bb9-4aab-90d6-87ee38b89a7c"
   },
   "outputs": [
    {
     "data": {
      "text/plain": [
       "(None, 1, 100)"
      ]
     },
     "execution_count": 87,
     "metadata": {},
     "output_type": "execute_result"
    }
   ],
   "source": [
    "tuple(model.input.shape)"
   ]
  },
  {
   "cell_type": "code",
   "execution_count": 88,
   "metadata": {
    "colab": {
     "base_uri": "https://localhost:8080/"
    },
    "id": "b8IXf-u7Hspq",
    "outputId": "065abc40-f290-44d5-881f-560de3ef9cf9"
   },
   "outputs": [
    {
     "name": "stderr",
     "output_type": "stream",
     "text": [
      "/home/mikikrus/anaconda3/lib/python3.7/site-packages/keras/optimizer_v2/adam.py:105: UserWarning: The `lr` argument is deprecated, use `learning_rate` instead.\n",
      "  super(Adam, self).__init__(name, **kwargs)\n"
     ]
    },
    {
     "name": "stdout",
     "output_type": "stream",
     "text": [
      "Training for 10000 steps ...\n",
      "Interval 1 (0 steps performed)\n"
     ]
    },
    {
     "name": "stderr",
     "output_type": "stream",
     "text": [
      "/home/mikikrus/anaconda3/lib/python3.7/site-packages/keras/engine/training_v1.py:2079: UserWarning: `Model.state_updates` will be removed in a future version. This property should not be used in TensorFlow 2.0, as `updates` are applied automatically.\n",
      "  updates=self.state_updates,\n"
     ]
    },
    {
     "name": "stdout",
     "output_type": "stream",
     "text": [
      "    1/10000 [..............................] - ETA: 50:15 - reward: -5.0000"
     ]
    },
    {
     "name": "stderr",
     "output_type": "stream",
     "text": [
      "/home/mikikrus/anaconda3/lib/python3.7/site-packages/rl/memory.py:37: UserWarning: Not enough entries to sample without replacement. Consider increasing your warm-up phase to avoid oversampling!\n",
      "  warnings.warn('Not enough entries to sample without replacement. Consider increasing your warm-up phase to avoid oversampling!')\n"
     ]
    },
    {
     "name": "stdout",
     "output_type": "stream",
     "text": [
      " 2281/10000 [=====>........................] - ETA: 1:54 - reward: -4.9303Divisor:  2\n",
      "Divisor:  2\n",
      " 9001/10000 [==========================>...] - ETA: 14s - reward: -4.8532Divisor:  2\n",
      "Divisor:  2\n",
      "Divisor:  2\n",
      " 9600/10000 [===========================>..] - ETA: 5s - reward: -4.8421Divisor:  2\n",
      "Divisor:  4\n",
      "10000/10000 [==============================] - 149s 15ms/step - reward: -4.8417\n",
      "done, took 149.116 seconds\n"
     ]
    },
    {
     "data": {
      "text/plain": [
       "<keras.callbacks.History at 0x7f8dd87a2e80>"
      ]
     },
     "execution_count": 88,
     "metadata": {},
     "output_type": "execute_result"
    }
   ],
   "source": [
    "dqn = quick_building_agent(model, env)\n",
    "dqn.compile(Adam(lr=1e-3), metrics=['mae'])\n",
    "dqn.fit(env, nb_steps=10000, visualize=False, verbose=1)"
   ]
  },
  {
   "cell_type": "code",
   "execution_count": 93,
   "metadata": {
    "colab": {
     "base_uri": "https://localhost:8080/"
    },
    "id": "G3GbxvpYHspq",
    "outputId": "2f06ac1d-75ec-465d-a1af-dd99d4fd2a4e"
   },
   "outputs": [
    {
     "name": "stdout",
     "output_type": "stream",
     "text": [
      "Testing for 10 episodes ...\n",
      "Episode 1: reward: -120.000, steps: 60\n",
      "Episode 2: reward: 57.000, steps: 60\n",
      "Episode 3: reward: -120.000, steps: 60\n",
      "Episode 4: reward: -120.000, steps: 60\n",
      "Episode 5: reward: -120.000, steps: 60\n",
      "Episode 6: reward: -300.000, steps: 60\n",
      "Episode 7: reward: -120.000, steps: 60\n",
      "Episode 8: reward: 57.000, steps: 60\n",
      "Episode 9: reward: -120.000, steps: 60\n",
      "Episode 10: reward: -120.000, steps: 60\n",
      "-102.6\n"
     ]
    }
   ],
   "source": [
    "fscores = dqn.test(env, nb_episodes=10, visualize=False)\n",
    "print(np.mean(fscores.history['episode_reward']))"
   ]
  },
  {
   "cell_type": "code",
   "execution_count": null,
   "metadata": {
    "id": "niuOhAoDgBUv"
   },
   "outputs": [],
   "source": []
  }
 ],
 "metadata": {
  "colab": {
   "collapsed_sections": [],
   "name": "Psotnik.ipynb",
   "provenance": []
  },
  "kernelspec": {
   "display_name": "Python 3",
   "language": "python",
   "name": "python3"
  },
  "language_info": {
   "codemirror_mode": {
    "name": "ipython",
    "version": 3
   },
   "file_extension": ".py",
   "mimetype": "text/x-python",
   "name": "python",
   "nbconvert_exporter": "python",
   "pygments_lexer": "ipython3",
   "version": "3.7.3"
  }
 },
 "nbformat": 4,
 "nbformat_minor": 2
}
